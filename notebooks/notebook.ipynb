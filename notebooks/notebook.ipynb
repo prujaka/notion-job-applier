{
 "cells": [
  {
   "metadata": {
    "ExecuteTime": {
     "end_time": "2025-09-12T10:40:37.147252Z",
     "start_time": "2025-09-12T10:40:36.481816Z"
    }
   },
   "cell_type": "code",
   "source": [
    "from urllib.request import Request\n",
    "\n",
    "from jobapplier.api_requests import fetch_database_jsons, add_block, \\\n",
    "    add_cover_letters\n",
    "from jobapplier.constants import (URL_TEST_DATABASE, API_HEADERS,\n",
    "                                  URL_JOB_TRACKER_2_DATABASE, OPENAI_KEY)\n",
    "from jobapplier.cover_letter import build_letter\n",
    "from jobapplier.data_preprocessing import build_dataframe\n",
    "import os\n",
    "from requests import Response\n",
    "from openai import OpenAI\n",
    "import requests\n",
    "import json"
   ],
   "id": "7bbc4f73430c7fe0",
   "outputs": [],
   "execution_count": 1
  },
  {
   "metadata": {
    "ExecuteTime": {
     "end_time": "2025-09-12T10:40:42.659365Z",
     "start_time": "2025-09-12T10:40:42.588915Z"
    }
   },
   "cell_type": "code",
   "source": [
    "if os.getcwd().split('/')[-1] == 'notebooks':\n",
    "    os.chdir('..')\n",
    "\n",
    "%load_ext autoreload\n",
    "%autoreload 2"
   ],
   "id": "a090d3530b276158",
   "outputs": [],
   "execution_count": 2
  },
  {
   "metadata": {
    "ExecuteTime": {
     "end_time": "2025-09-12T15:53:56.208216Z",
     "start_time": "2025-09-12T15:53:55.256127Z"
    }
   },
   "cell_type": "code",
   "source": [
    "text = \"Govno\"\n",
    "block_id = '209d972b-0f6d-8144-9d50-fbd0d5ae094f'\n",
    "\n",
    "response = add_block(text=text, block_id=block_id, headers=API_HEADERS, block_type='paragraph')"
   ],
   "id": "f08e36616680e5f",
   "outputs": [],
   "execution_count": 8
  },
  {
   "metadata": {
    "ExecuteTime": {
     "end_time": "2025-07-27T19:48:51.394558Z",
     "start_time": "2025-07-27T19:48:44.290757Z"
    }
   },
   "cell_type": "code",
   "source": "responses = add_cover_letters(database_url=URL_TEST_DATABASE, headers=API_HEADERS, block_type='paragraph')",
   "id": "fc910c6ff43b8a6d",
   "outputs": [],
   "execution_count": 20
  },
  {
   "metadata": {},
   "cell_type": "code",
   "source": "list(map(lambda x: x.content, responses))",
   "id": "1956229dc14f32f0",
   "outputs": [],
   "execution_count": null
  },
  {
   "metadata": {
    "ExecuteTime": {
     "end_time": "2025-09-18T15:31:42.793282Z",
     "start_time": "2025-09-18T15:31:40.135661Z"
    }
   },
   "cell_type": "code",
   "source": [
    "results = fetch_database_jsons(url=URL_JOB_TRACKER_2_DATABASE, headers=API_HEADERS)\n",
    "df_jobs = build_dataframe(results)"
   ],
   "id": "f757d749363eb202",
   "outputs": [],
   "execution_count": 15
  },
  {
   "metadata": {
    "ExecuteTime": {
     "end_time": "2025-09-18T15:31:42.821044Z",
     "start_time": "2025-09-18T15:31:42.809171Z"
    }
   },
   "cell_type": "code",
   "source": "columns = ['job_title', 'company', 'date_applied', 'origin', 'stage']",
   "id": "ac26592409b5f2d9",
   "outputs": [],
   "execution_count": 16
  },
  {
   "metadata": {
    "ExecuteTime": {
     "end_time": "2025-09-18T15:33:13.309307Z",
     "start_time": "2025-09-18T15:33:13.296006Z"
    }
   },
   "cell_type": "code",
   "source": [
    "title = 'Coface'\n",
    "df_jobs.loc[df_jobs['company'].map(lambda x: title in x), columns]"
   ],
   "id": "1692370836ee132b",
   "outputs": [
    {
     "data": {
      "text/plain": [
       "                         job_title company date_applied  \\\n",
       "1    Data Risk Analyst / Scientist  Coface   2025-09-15   \n",
       "200   Data Scientist / ML Engineer  Coface   2025-06-02   \n",
       "\n",
       "                    origin             stage  \n",
       "1    Welcome To The Jungle  Application Sent  \n",
       "200  Welcome To The Jungle         Rejection  "
      ],
      "text/html": [
       "<div>\n",
       "<style scoped>\n",
       "    .dataframe tbody tr th:only-of-type {\n",
       "        vertical-align: middle;\n",
       "    }\n",
       "\n",
       "    .dataframe tbody tr th {\n",
       "        vertical-align: top;\n",
       "    }\n",
       "\n",
       "    .dataframe thead th {\n",
       "        text-align: right;\n",
       "    }\n",
       "</style>\n",
       "<table border=\"1\" class=\"dataframe\">\n",
       "  <thead>\n",
       "    <tr style=\"text-align: right;\">\n",
       "      <th></th>\n",
       "      <th>job_title</th>\n",
       "      <th>company</th>\n",
       "      <th>date_applied</th>\n",
       "      <th>origin</th>\n",
       "      <th>stage</th>\n",
       "    </tr>\n",
       "  </thead>\n",
       "  <tbody>\n",
       "    <tr>\n",
       "      <th>1</th>\n",
       "      <td>Data Risk Analyst / Scientist</td>\n",
       "      <td>Coface</td>\n",
       "      <td>2025-09-15</td>\n",
       "      <td>Welcome To The Jungle</td>\n",
       "      <td>Application Sent</td>\n",
       "    </tr>\n",
       "    <tr>\n",
       "      <th>200</th>\n",
       "      <td>Data Scientist / ML Engineer</td>\n",
       "      <td>Coface</td>\n",
       "      <td>2025-06-02</td>\n",
       "      <td>Welcome To The Jungle</td>\n",
       "      <td>Rejection</td>\n",
       "    </tr>\n",
       "  </tbody>\n",
       "</table>\n",
       "</div>"
      ]
     },
     "execution_count": 20,
     "metadata": {},
     "output_type": "execute_result"
    }
   ],
   "execution_count": 20
  }
 ],
 "metadata": {
  "kernelspec": {
   "display_name": "Python 3",
   "language": "python",
   "name": "python3"
  },
  "language_info": {
   "codemirror_mode": {
    "name": "ipython",
    "version": 2
   },
   "file_extension": ".py",
   "mimetype": "text/x-python",
   "name": "python",
   "nbconvert_exporter": "python",
   "pygments_lexer": "ipython2",
   "version": "2.7.6"
  }
 },
 "nbformat": 4,
 "nbformat_minor": 5
}
