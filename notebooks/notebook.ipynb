{
 "cells": [
  {
   "metadata": {
    "ExecuteTime": {
     "end_time": "2025-07-23T13:06:28.965303Z",
     "start_time": "2025-07-23T13:06:28.958651Z"
    }
   },
   "cell_type": "code",
   "source": [
    "from jobapplier.api_requests import fetch_database_jsons\n",
    "from jobapplier.constants import URL_TEST_DATABASE, API_HEADERS\n",
    "import requests\n",
    "import json"
   ],
   "id": "7bbc4f73430c7fe0",
   "outputs": [],
   "execution_count": 13
  },
  {
   "metadata": {
    "ExecuteTime": {
     "end_time": "2025-07-22T14:48:09.972443Z",
     "start_time": "2025-07-22T14:48:09.501634Z"
    }
   },
   "cell_type": "code",
   "source": "results = fetch_database_jsons(url=URL_TEST_DATABASE, headers=API_HEADERS)",
   "id": "2409e3f5f76dfd85",
   "outputs": [],
   "execution_count": 5
  },
  {
   "metadata": {
    "ExecuteTime": {
     "end_time": "2025-07-22T14:48:11.467329Z",
     "start_time": "2025-07-22T14:48:11.461868Z"
    }
   },
   "cell_type": "code",
   "source": "results",
   "id": "4f42f873644e5d50",
   "outputs": [
    {
     "data": {
      "text/plain": [
       "[{'object': 'page',\n",
       "  'id': '209d972b-0f6d-8144-9d50-fbd0d5ae094f',\n",
       "  'created_time': '2025-06-05T09:10:00.000Z',\n",
       "  'last_edited_time': '2025-06-05T09:10:00.000Z',\n",
       "  'created_by': {'object': 'user',\n",
       "   'id': 'b6dc6b72-9164-485e-97d9-2c2b5ab0d6e7'},\n",
       "  'last_edited_by': {'object': 'user',\n",
       "   'id': 'b6dc6b72-9164-485e-97d9-2c2b5ab0d6e7'},\n",
       "  'cover': None,\n",
       "  'icon': None,\n",
       "  'parent': {'type': 'database_id',\n",
       "   'database_id': '209d972b-0f6d-8004-bda8-f7bded0d4e9c'},\n",
       "  'archived': False,\n",
       "  'in_trash': False,\n",
       "  'properties': {'Language': {'id': 'Ecct', 'type': 'select', 'select': None},\n",
       "   'Type': {'id': 'N%3EXf', 'type': 'select', 'select': None},\n",
       "   'Company': {'id': 'VvXH', 'type': 'rich_text', 'rich_text': []},\n",
       "   'Origin': {'id': 'WABq', 'type': 'select', 'select': None},\n",
       "   'Stage': {'id': 'Z%3Fz%40', 'type': 'select', 'select': None},\n",
       "   'Comment': {'id': '%5C%40QG', 'type': 'rich_text', 'rich_text': []},\n",
       "   'Job Description': {'id': 'gyfH', 'type': 'rich_text', 'rich_text': []},\n",
       "   'Cover letter link': {'id': 'mGQV', 'type': 'rich_text', 'rich_text': []},\n",
       "   'Date Applied': {'id': 'r%5EDe', 'type': 'date', 'date': None},\n",
       "   'Cover letter': {'id': '%7DtqS', 'type': 'select', 'select': None},\n",
       "   'Job Title': {'id': 'title', 'type': 'title', 'title': []},\n",
       "   'Referral': {'id': '31cbcc5e-ea13-4ad4-9c1e-965ff7388cbe',\n",
       "    'type': 'rich_text',\n",
       "    'rich_text': []}},\n",
       "  'url': 'https://www.notion.so/209d972b0f6d81449d50fbd0d5ae094f',\n",
       "  'public_url': None}]"
      ]
     },
     "execution_count": 6,
     "metadata": {},
     "output_type": "execute_result"
    }
   ],
   "execution_count": 6
  },
  {
   "metadata": {},
   "cell_type": "code",
   "outputs": [],
   "execution_count": null,
   "source": "",
   "id": "9ab45bdda2f45a42"
  },
  {
   "metadata": {
    "ExecuteTime": {
     "end_time": "2025-07-23T14:21:24.356339Z",
     "start_time": "2025-07-23T14:21:19.557573Z"
    }
   },
   "cell_type": "code",
   "source": [
    "block_id = '209d972b-0f6d-8144-9d50-fbd0d5ae094f'\n",
    "children = {\n",
    "    \"children\": [\n",
    "        {\n",
    "            \"type\": \"code\",\n",
    "            \"code\": {\n",
    "                \"caption\": [],\n",
    "                \"rich_text\": [{\n",
    "                    \"type\": \"text\",\n",
    "                    \"text\": {\n",
    "                        \"content\": \"Hello block\"\n",
    "                    }\n",
    "                }],\n",
    "                \"language\": \"plain text\"\n",
    "            }\n",
    "        }\n",
    "    ]\n",
    "}\n",
    "\n",
    "url = f\"https://api.notion.com/v1/blocks/{block_id}/children\"\n",
    "\n",
    "headers = {\n",
    "    \"accept\": \"application/json\",\n",
    "    \"content-type\": \"application/json\"\n",
    "}\n",
    "\n",
    "response = requests.patch(url, headers=API_HEADERS, data=json.dumps(children))\n",
    "\n",
    "print(response.text)"
   ],
   "id": "62dd9846b956dfd1",
   "outputs": [
    {
     "name": "stdout",
     "output_type": "stream",
     "text": [
      "{\"object\":\"list\",\"results\":[{\"object\":\"block\",\"id\":\"239d972b-0f6d-8161-922b-efa63bb26c46\",\"parent\":{\"type\":\"page_id\",\"page_id\":\"209d972b-0f6d-8144-9d50-fbd0d5ae094f\"},\"created_time\":\"2025-07-23T14:21:00.000Z\",\"last_edited_time\":\"2025-07-23T14:21:00.000Z\",\"created_by\":{\"object\":\"user\",\"id\":\"e225c91d-c123-4baa-932d-730ef71d9f62\"},\"last_edited_by\":{\"object\":\"user\",\"id\":\"e225c91d-c123-4baa-932d-730ef71d9f62\"},\"has_children\":false,\"archived\":false,\"in_trash\":false,\"type\":\"code\",\"code\":{\"caption\":[],\"rich_text\":[{\"type\":\"text\",\"text\":{\"content\":\"Hello block\",\"link\":null},\"annotations\":{\"bold\":false,\"italic\":false,\"strikethrough\":false,\"underline\":false,\"code\":false,\"color\":\"default\"},\"plain_text\":\"Hello block\",\"href\":null}],\"language\":\"plain text\"}}],\"next_cursor\":null,\"has_more\":false,\"type\":\"block\",\"block\":{},\"request_id\":\"fc93beb9-44c5-4011-826b-6f070ca8c187\"}\n"
     ]
    }
   ],
   "execution_count": 19
  },
  {
   "metadata": {
    "ExecuteTime": {
     "end_time": "2025-07-23T13:14:23.689311Z",
     "start_time": "2025-07-23T13:14:23.686194Z"
    }
   },
   "cell_type": "code",
   "source": "response.headers['Content-Type']",
   "id": "4ba8a5998512a8c4",
   "outputs": [
    {
     "data": {
      "text/plain": [
       "'application/json; charset=utf-8'"
      ]
     },
     "execution_count": 16,
     "metadata": {},
     "output_type": "execute_result"
    }
   ],
   "execution_count": 16
  }
 ],
 "metadata": {
  "kernelspec": {
   "display_name": "Python 3",
   "language": "python",
   "name": "python3"
  },
  "language_info": {
   "codemirror_mode": {
    "name": "ipython",
    "version": 2
   },
   "file_extension": ".py",
   "mimetype": "text/x-python",
   "name": "python",
   "nbconvert_exporter": "python",
   "pygments_lexer": "ipython2",
   "version": "2.7.6"
  }
 },
 "nbformat": 4,
 "nbformat_minor": 5
}
