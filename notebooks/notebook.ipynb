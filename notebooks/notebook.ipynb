{
 "cells": [
  {
   "metadata": {
    "ExecuteTime": {
     "end_time": "2025-07-23T16:15:28.047416Z",
     "start_time": "2025-07-23T16:15:27.986905Z"
    }
   },
   "cell_type": "code",
   "source": [
    "from jobapplier.api_requests import fetch_database_jsons, add_code_block\n",
    "from jobapplier.constants import URL_TEST_DATABASE, API_HEADERS, URL_JOB_TRACKER_2_DATABASE\n",
    "import requests\n",
    "import json"
   ],
   "id": "7bbc4f73430c7fe0",
   "outputs": [],
   "execution_count": 1
  },
  {
   "metadata": {
    "ExecuteTime": {
     "end_time": "2025-07-23T16:15:28.310744Z",
     "start_time": "2025-07-23T16:15:28.248533Z"
    }
   },
   "cell_type": "code",
   "source": [
    "%load_ext autoreload\n",
    "%autoreload 2"
   ],
   "id": "acd2f3a00c2f2456",
   "outputs": [],
   "execution_count": 2
  },
  {
   "metadata": {
    "ExecuteTime": {
     "end_time": "2025-07-23T16:15:32.573798Z",
     "start_time": "2025-07-23T16:15:31.382027Z"
    }
   },
   "cell_type": "code",
   "source": [
    "text = \"Zadnitsa\"\n",
    "block_id = '209d972b-0f6d-8144-9d50-fbd0d5ae094f'\n",
    "\n",
    "response = add_code_block(text, block_id, API_HEADERS)"
   ],
   "id": "f08e36616680e5f",
   "outputs": [],
   "execution_count": 5
  },
  {
   "metadata": {
    "ExecuteTime": {
     "end_time": "2025-07-23T15:33:59.202414Z",
     "start_time": "2025-07-23T15:33:58.754888Z"
    }
   },
   "cell_type": "code",
   "source": "results = fetch_database_jsons(url=URL_TEST_DATABASE, headers=API_HEADERS)",
   "id": "4ba8a5998512a8c4",
   "outputs": [],
   "execution_count": 13
  },
  {
   "metadata": {
    "ExecuteTime": {
     "end_time": "2025-07-23T15:43:02.124089Z",
     "start_time": "2025-07-23T15:43:02.115940Z"
    }
   },
   "cell_type": "code",
   "source": [
    "result_example = results[2]\n",
    "result_example['properties']['Stage']['select']"
   ],
   "id": "d485276571b82531",
   "outputs": [],
   "execution_count": 24
  }
 ],
 "metadata": {
  "kernelspec": {
   "display_name": "Python 3",
   "language": "python",
   "name": "python3"
  },
  "language_info": {
   "codemirror_mode": {
    "name": "ipython",
    "version": 2
   },
   "file_extension": ".py",
   "mimetype": "text/x-python",
   "name": "python",
   "nbconvert_exporter": "python",
   "pygments_lexer": "ipython2",
   "version": "2.7.6"
  }
 },
 "nbformat": 4,
 "nbformat_minor": 5
}
