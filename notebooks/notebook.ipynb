{
 "cells": [
  {
   "metadata": {
    "ExecuteTime": {
     "end_time": "2025-09-24T17:28:52.471687Z",
     "start_time": "2025-09-24T17:28:51.826135Z"
    }
   },
   "cell_type": "code",
   "source": [
    "from urllib.request import Request\n",
    "\n",
    "from jobapplier.api_requests import fetch_database_jsons, add_block, \\\n",
    "    add_cover_letters, assign_positions\n",
    "from jobapplier.constants import (URL_TEST_DATABASE, API_HEADERS,\n",
    "                                  URL_JOB_TRACKER_2_DATABASE, OPENAI_KEY)\n",
    "from jobapplier.cover_letter import build_letter\n",
    "from jobapplier.data_preprocessing import build_dataframe, map_dict\n",
    "import os\n",
    "from requests import Response\n",
    "from openai import OpenAI\n",
    "import requests\n",
    "import json"
   ],
   "id": "7bbc4f73430c7fe0",
   "outputs": [],
   "execution_count": 1
  },
  {
   "metadata": {
    "ExecuteTime": {
     "end_time": "2025-09-24T17:28:52.536112Z",
     "start_time": "2025-09-24T17:28:52.475887Z"
    }
   },
   "cell_type": "code",
   "source": [
    "if os.getcwd().split('/')[-1] == 'notebooks':\n",
    "    os.chdir('..')\n",
    "\n",
    "%load_ext autoreload\n",
    "%autoreload 2"
   ],
   "id": "a090d3530b276158",
   "outputs": [],
   "execution_count": 2
  },
  {
   "metadata": {
    "ExecuteTime": {
     "end_time": "2025-09-24T17:28:53.426433Z",
     "start_time": "2025-09-24T17:28:52.540235Z"
    }
   },
   "cell_type": "code",
   "source": [
    "text = \"Govno\"\n",
    "block_id = '209d972b-0f6d-8144-9d50-fbd0d5ae094f'\n",
    "\n",
    "response = add_block(text=text, block_id=block_id, headers=API_HEADERS, block_type='paragraph')"
   ],
   "id": "f08e36616680e5f",
   "outputs": [],
   "execution_count": 3
  },
  {
   "metadata": {
    "ExecuteTime": {
     "end_time": "2025-09-24T17:29:00.139017Z",
     "start_time": "2025-09-24T17:28:53.487715Z"
    }
   },
   "cell_type": "code",
   "source": [
    "results = fetch_database_jsons(url=URL_JOB_TRACKER_2_DATABASE, headers=API_HEADERS)\n",
    "df_jobs = build_dataframe(results)"
   ],
   "id": "f757d749363eb202",
   "outputs": [],
   "execution_count": 4
  },
  {
   "metadata": {
    "ExecuteTime": {
     "end_time": "2025-09-24T17:29:00.335495Z",
     "start_time": "2025-09-24T17:29:00.326194Z"
    }
   },
   "cell_type": "code",
   "source": "results_mapped = list(map(map_dict, results))",
   "id": "7bdcd710a3db52fe",
   "outputs": [],
   "execution_count": 5
  },
  {
   "metadata": {
    "ExecuteTime": {
     "end_time": "2025-09-24T17:29:01.077196Z",
     "start_time": "2025-09-24T17:29:00.338777Z"
    }
   },
   "cell_type": "code",
   "source": "search_response = requests.post(url=URL_JOB_TRACKER_2_DATABASE, headers=API_HEADERS)",
   "id": "5badd6ff9bca9a95",
   "outputs": [],
   "execution_count": 6
  },
  {
   "metadata": {
    "ExecuteTime": {
     "end_time": "2025-09-24T19:47:18.376928Z",
     "start_time": "2025-09-24T19:47:12.304584Z"
    }
   },
   "cell_type": "code",
   "source": [
    "all_pages = fetch_database_jsons(url=URL_JOB_TRACKER_2_DATABASE, headers=API_HEADERS)\n",
    "df_jobs = build_dataframe(all_pages)"
   ],
   "id": "eb48a7c6f65b2db6",
   "outputs": [],
   "execution_count": 50
  },
  {
   "metadata": {
    "ExecuteTime": {
     "end_time": "2025-09-24T19:49:12.245996Z",
     "start_time": "2025-09-24T19:49:12.223429Z"
    }
   },
   "cell_type": "code",
   "source": "df_jobs[df_jobs['stage'].isna()].sort_values(by='position', ascending=False)",
   "id": "10f378e89a8a0ef1",
   "outputs": [
    {
     "data": {
      "text/plain": [
       "                                page_id    job_title company language  \\\n",
       "2  278d972b-0f6d-80c7-b809-c9a9d53f01d3  Data Yaitsa    None     None   \n",
       "1  278d972b-0f6d-8019-90de-ea485301801a     Data KAL    None     None   \n",
       "3  278d972b-0f6d-80fd-b5af-cb8543d4be36     Data HUI    None     None   \n",
       "0  278d972b-0f6d-8002-9db7-ec15f2f38c0e    Data Bomj    None     None   \n",
       "\n",
       "  date_applied origin stage job_description cover_letter  position  \n",
       "2         None   None  None            None         None       244  \n",
       "1         None   None  None            None         None       243  \n",
       "3         None   None  None            None         None       242  \n",
       "0         None   None  None            None         None       241  "
      ],
      "text/html": [
       "<div>\n",
       "<style scoped>\n",
       "    .dataframe tbody tr th:only-of-type {\n",
       "        vertical-align: middle;\n",
       "    }\n",
       "\n",
       "    .dataframe tbody tr th {\n",
       "        vertical-align: top;\n",
       "    }\n",
       "\n",
       "    .dataframe thead th {\n",
       "        text-align: right;\n",
       "    }\n",
       "</style>\n",
       "<table border=\"1\" class=\"dataframe\">\n",
       "  <thead>\n",
       "    <tr style=\"text-align: right;\">\n",
       "      <th></th>\n",
       "      <th>page_id</th>\n",
       "      <th>job_title</th>\n",
       "      <th>company</th>\n",
       "      <th>language</th>\n",
       "      <th>date_applied</th>\n",
       "      <th>origin</th>\n",
       "      <th>stage</th>\n",
       "      <th>job_description</th>\n",
       "      <th>cover_letter</th>\n",
       "      <th>position</th>\n",
       "    </tr>\n",
       "  </thead>\n",
       "  <tbody>\n",
       "    <tr>\n",
       "      <th>2</th>\n",
       "      <td>278d972b-0f6d-80c7-b809-c9a9d53f01d3</td>\n",
       "      <td>Data Yaitsa</td>\n",
       "      <td>None</td>\n",
       "      <td>None</td>\n",
       "      <td>None</td>\n",
       "      <td>None</td>\n",
       "      <td>None</td>\n",
       "      <td>None</td>\n",
       "      <td>None</td>\n",
       "      <td>244</td>\n",
       "    </tr>\n",
       "    <tr>\n",
       "      <th>1</th>\n",
       "      <td>278d972b-0f6d-8019-90de-ea485301801a</td>\n",
       "      <td>Data KAL</td>\n",
       "      <td>None</td>\n",
       "      <td>None</td>\n",
       "      <td>None</td>\n",
       "      <td>None</td>\n",
       "      <td>None</td>\n",
       "      <td>None</td>\n",
       "      <td>None</td>\n",
       "      <td>243</td>\n",
       "    </tr>\n",
       "    <tr>\n",
       "      <th>3</th>\n",
       "      <td>278d972b-0f6d-80fd-b5af-cb8543d4be36</td>\n",
       "      <td>Data HUI</td>\n",
       "      <td>None</td>\n",
       "      <td>None</td>\n",
       "      <td>None</td>\n",
       "      <td>None</td>\n",
       "      <td>None</td>\n",
       "      <td>None</td>\n",
       "      <td>None</td>\n",
       "      <td>242</td>\n",
       "    </tr>\n",
       "    <tr>\n",
       "      <th>0</th>\n",
       "      <td>278d972b-0f6d-8002-9db7-ec15f2f38c0e</td>\n",
       "      <td>Data Bomj</td>\n",
       "      <td>None</td>\n",
       "      <td>None</td>\n",
       "      <td>None</td>\n",
       "      <td>None</td>\n",
       "      <td>None</td>\n",
       "      <td>None</td>\n",
       "      <td>None</td>\n",
       "      <td>241</td>\n",
       "    </tr>\n",
       "  </tbody>\n",
       "</table>\n",
       "</div>"
      ]
     },
     "execution_count": 53,
     "metadata": {},
     "output_type": "execute_result"
    }
   ],
   "execution_count": 53
  }
 ],
 "metadata": {
  "kernelspec": {
   "display_name": "Python 3",
   "language": "python",
   "name": "python3"
  },
  "language_info": {
   "codemirror_mode": {
    "name": "ipython",
    "version": 2
   },
   "file_extension": ".py",
   "mimetype": "text/x-python",
   "name": "python",
   "nbconvert_exporter": "python",
   "pygments_lexer": "ipython2",
   "version": "2.7.6"
  }
 },
 "nbformat": 4,
 "nbformat_minor": 5
}
