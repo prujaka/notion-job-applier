{
 "cells": [
  {
   "metadata": {
    "ExecuteTime": {
     "end_time": "2025-10-20T14:55:16.226892Z",
     "start_time": "2025-10-20T14:55:15.834123Z"
    }
   },
   "cell_type": "code",
   "source": [
    "import os\n",
    "\n",
    "import requests\n",
    "\n",
    "from jobapplier.api_requests import fetch_database_jsons, add_block\n",
    "from jobapplier.constants import (API_HEADERS,\n",
    "                                  URL_JOB_TRACKER_2_DATABASE)\n",
    "from jobapplier.cover_letter import build_cover_letter_prompt\n",
    "from jobapplier.data_preprocessing import build_dataframe, map_dict\n",
    "from jobapplier.utils import read_file_as_string"
   ],
   "id": "7bbc4f73430c7fe0",
   "outputs": [],
   "execution_count": 2
  },
  {
   "metadata": {
    "ExecuteTime": {
     "end_time": "2025-10-20T14:55:16.903568Z",
     "start_time": "2025-10-20T14:55:16.834491Z"
    }
   },
   "cell_type": "code",
   "source": [
    "if os.getcwd().split('/')[-1] == 'notebooks':\n",
    "    os.chdir('..')\n",
    "\n",
    "%load_ext autoreload\n",
    "%autoreload 2"
   ],
   "id": "a090d3530b276158",
   "outputs": [],
   "execution_count": 3
  },
  {
   "metadata": {
    "ExecuteTime": {
     "end_time": "2025-09-24T17:28:53.426433Z",
     "start_time": "2025-09-24T17:28:52.540235Z"
    }
   },
   "cell_type": "code",
   "source": [
    "text = \"Govno\"\n",
    "block_id = '209d972b-0f6d-8144-9d50-fbd0d5ae094f'\n",
    "\n",
    "response = add_block(text=text, block_id=block_id, headers=API_HEADERS, block_type='paragraph')"
   ],
   "id": "f08e36616680e5f",
   "outputs": [],
   "execution_count": 3
  },
  {
   "metadata": {
    "ExecuteTime": {
     "end_time": "2025-10-02T15:19:05.474338Z",
     "start_time": "2025-10-02T15:19:03.611104Z"
    }
   },
   "cell_type": "code",
   "source": [
    "results = fetch_database_jsons(url=URL_JOB_TRACKER_2_DATABASE, headers=API_HEADERS)\n",
    "df_jobs = build_dataframe(results)"
   ],
   "id": "f757d749363eb202",
   "outputs": [],
   "execution_count": 31
  },
  {
   "metadata": {
    "ExecuteTime": {
     "end_time": "2025-09-24T17:29:00.335495Z",
     "start_time": "2025-09-24T17:29:00.326194Z"
    }
   },
   "cell_type": "code",
   "source": "results_mapped = list(map(map_dict, results))",
   "id": "7bdcd710a3db52fe",
   "outputs": [],
   "execution_count": 5
  },
  {
   "metadata": {
    "ExecuteTime": {
     "end_time": "2025-09-24T17:29:01.077196Z",
     "start_time": "2025-09-24T17:29:00.338777Z"
    }
   },
   "cell_type": "code",
   "source": "search_response = requests.post(url=URL_JOB_TRACKER_2_DATABASE, headers=API_HEADERS)",
   "id": "5badd6ff9bca9a95",
   "outputs": [],
   "execution_count": 6
  },
  {
   "metadata": {
    "ExecuteTime": {
     "end_time": "2025-10-02T15:13:37.065791Z",
     "start_time": "2025-10-02T15:13:35.062258Z"
    }
   },
   "cell_type": "code",
   "source": [
    "all_pages = fetch_database_jsons(url=URL_JOB_TRACKER_2_DATABASE, headers=API_HEADERS)\n",
    "df_jobs = build_dataframe(all_pages)"
   ],
   "id": "eb48a7c6f65b2db6",
   "outputs": [],
   "execution_count": 21
  },
  {
   "metadata": {
    "ExecuteTime": {
     "end_time": "2025-09-24T19:49:12.245996Z",
     "start_time": "2025-09-24T19:49:12.223429Z"
    }
   },
   "cell_type": "code",
   "source": "df_jobs[df_jobs['stage'].isna()].sort_values(by='position', ascending=False)",
   "id": "10f378e89a8a0ef1",
   "outputs": [
    {
     "data": {
      "text/plain": [
       "                                page_id    job_title company language  \\\n",
       "2  278d972b-0f6d-80c7-b809-c9a9d53f01d3  Data Yaitsa    None     None   \n",
       "1  278d972b-0f6d-8019-90de-ea485301801a     Data KAL    None     None   \n",
       "3  278d972b-0f6d-80fd-b5af-cb8543d4be36     Data HUI    None     None   \n",
       "0  278d972b-0f6d-8002-9db7-ec15f2f38c0e    Data Bomj    None     None   \n",
       "\n",
       "  date_applied origin stage job_description cover_letter  position  \n",
       "2         None   None  None            None         None       244  \n",
       "1         None   None  None            None         None       243  \n",
       "3         None   None  None            None         None       242  \n",
       "0         None   None  None            None         None       241  "
      ],
      "text/html": [
       "<div>\n",
       "<style scoped>\n",
       "    .dataframe tbody tr th:only-of-type {\n",
       "        vertical-align: middle;\n",
       "    }\n",
       "\n",
       "    .dataframe tbody tr th {\n",
       "        vertical-align: top;\n",
       "    }\n",
       "\n",
       "    .dataframe thead th {\n",
       "        text-align: right;\n",
       "    }\n",
       "</style>\n",
       "<table border=\"1\" class=\"dataframe\">\n",
       "  <thead>\n",
       "    <tr style=\"text-align: right;\">\n",
       "      <th></th>\n",
       "      <th>page_id</th>\n",
       "      <th>job_title</th>\n",
       "      <th>company</th>\n",
       "      <th>language</th>\n",
       "      <th>date_applied</th>\n",
       "      <th>origin</th>\n",
       "      <th>stage</th>\n",
       "      <th>job_description</th>\n",
       "      <th>cover_letter</th>\n",
       "      <th>position</th>\n",
       "    </tr>\n",
       "  </thead>\n",
       "  <tbody>\n",
       "    <tr>\n",
       "      <th>2</th>\n",
       "      <td>278d972b-0f6d-80c7-b809-c9a9d53f01d3</td>\n",
       "      <td>Data Yaitsa</td>\n",
       "      <td>None</td>\n",
       "      <td>None</td>\n",
       "      <td>None</td>\n",
       "      <td>None</td>\n",
       "      <td>None</td>\n",
       "      <td>None</td>\n",
       "      <td>None</td>\n",
       "      <td>244</td>\n",
       "    </tr>\n",
       "    <tr>\n",
       "      <th>1</th>\n",
       "      <td>278d972b-0f6d-8019-90de-ea485301801a</td>\n",
       "      <td>Data KAL</td>\n",
       "      <td>None</td>\n",
       "      <td>None</td>\n",
       "      <td>None</td>\n",
       "      <td>None</td>\n",
       "      <td>None</td>\n",
       "      <td>None</td>\n",
       "      <td>None</td>\n",
       "      <td>243</td>\n",
       "    </tr>\n",
       "    <tr>\n",
       "      <th>3</th>\n",
       "      <td>278d972b-0f6d-80fd-b5af-cb8543d4be36</td>\n",
       "      <td>Data HUI</td>\n",
       "      <td>None</td>\n",
       "      <td>None</td>\n",
       "      <td>None</td>\n",
       "      <td>None</td>\n",
       "      <td>None</td>\n",
       "      <td>None</td>\n",
       "      <td>None</td>\n",
       "      <td>242</td>\n",
       "    </tr>\n",
       "    <tr>\n",
       "      <th>0</th>\n",
       "      <td>278d972b-0f6d-8002-9db7-ec15f2f38c0e</td>\n",
       "      <td>Data Bomj</td>\n",
       "      <td>None</td>\n",
       "      <td>None</td>\n",
       "      <td>None</td>\n",
       "      <td>None</td>\n",
       "      <td>None</td>\n",
       "      <td>None</td>\n",
       "      <td>None</td>\n",
       "      <td>241</td>\n",
       "    </tr>\n",
       "  </tbody>\n",
       "</table>\n",
       "</div>"
      ]
     },
     "execution_count": 53,
     "metadata": {},
     "output_type": "execute_result"
    }
   ],
   "execution_count": 53
  },
  {
   "metadata": {
    "ExecuteTime": {
     "end_time": "2025-10-24T15:33:39.919970Z",
     "start_time": "2025-10-24T15:33:39.899795Z"
    }
   },
   "cell_type": "code",
   "source": [
    "# DON'T FORGET TO UPDATE JOB DESCRIPTION # DON'T FORGET TO UPDATE JOB DESCRIPTION\n",
    "language = 'fr'\n",
    "company_website = 'https://groupecreditagricole.jobs/fr/'\n",
    "job_title = 'Data Scientist IA – Développeur Machine Learning'\n",
    "# DON'T FORGET TO UPDATE JOB DESCRIPTION # DON'T FORGET TO UPDATE JOB DESCRIPTION\n",
    "cover_letter_version = 'v2'\n",
    "prompt_version = 'v4'\n",
    "\n",
    "cover_letter_warehouse_dir = 'documents/cover_letter_warehouse'\n",
    "base_prompt = read_file_as_string(f'{cover_letter_warehouse_dir}/{language}/prompt_{prompt_version}.txt')\n",
    "job_description = read_file_as_string(f'{cover_letter_warehouse_dir}/job_description.txt')\n",
    "letter_template = read_file_as_string(f'{cover_letter_warehouse_dir}/{language}/cover_letter_template_{cover_letter_version}.txt')\n",
    "output_file = f'{cover_letter_warehouse_dir}/output_prompt.txt'\n",
    "build_cover_letter_prompt(base_prompt, company_website, job_title, job_description, letter_template, output_file)"
   ],
   "id": "cd6c0170fdf43362",
   "outputs": [
    {
     "data": {
      "text/plain": [
       "'# Prompt de personnalisation de lettre de motivation (lettre en français)\\n\\n### Role\\n\\nYou are an agentic writing assistant. Your task is to adapt my general French cover letter to specific job applications.\\n\\n### Style rules\\n\\n* Output language: French\\n* English level equivalent: B1 (upper-intermediate)\\n- Tone: professional, calm, natural, and human — avoid “robotic”, “LinkedIn”, or “writer” tones.\\n* Never use expressions like “séduit”, “concret”, “cela résonne avec”, “impact concret”, \"correspond à ma façon de travailler\" or any poetic or emotional phrasing.\\n- Write like a normal person would speak to a hiring manager — simple, direct, conversational if needed.\\n- Use contractions (“I’m”, “I’ve”, “I’d”).\\n- Focus on **why I want to work there** and **what concrete value I’d bring**, not on admiration or generic compliments.\\n- Keep sentences short (max ~15 words).\\n- Vocabulary: simple (B1–B2) but professional.\\n- Avoid buzzwords, abstract ideas, and filler like “passionate”, “motivated”, or “dynamic”.\\n- Plain text only (no bold, no italics).\\n- Limit output to 600 characters max.\\n\\n### Process\\n\\n1. Start the paragraph with an active voice phrase like:\\n   “Je voudrais rejoindre X comme Y...”\\n2. Study the company website, job description, and recent news. Identify one **real, human reason** why the company or mission connects to something concrete or relatable (e.g. a personal experience, a value, or a problem I’d like to help solve).\\n3. Then, explain in plain French **why I’d be a strong fit** — use **specific details** from the job description and my experience. Instead of listing tools, mention what I can **build, improve, or contribute** with those tools.\\n4. Keep the tone personal but not emotional — it should sound like a short conversation with a recruiter.\\n5. If no facts are available, clearly say what’s missing instead of writing a generic answer.\\n\\n### Task\\n\\nWrite a new first paragraph for my cover letter that:\\n\\n* Opens with active voice (see above)\\n* Shows I studied the company\\n* Explains clearly why I want to work there\\n* Ends with a simple line about why I’d be a good fit\\n* Connects my tech stack if relevant\\n* Length: 4–5 sentences\\n\\n### My tech stack\\nPython (NumPy, Pandas, SciPy, Scikit-learn, TensorFlow, PyTorch, Matplotlib, GeoPandas, Shapely, NLTK), SQL, BigQuery, R\\nFortran, OpenMPI\\nGit, GitHub, Bash, Linux\\nGCP, Docker\\nFastAPI, Postman, Streamlit\\n\\n### Example output 1\\nJe souhaite postuler chez Garantme pour le poste de Data Engineer, car j’admire votre objectif de simplifier la vie des gens en les aidant à trouver un logement. J’ai eu la chance de pouvoir constituer mes dossiers avec des garants, mais beaucoup rencontrent des difficultés, et j’aimerais contribuer à leur faciliter cette étape en travaillant avec vous. Grâce à mon expérience en Python, SQL, GCP et en conception de pipelines de données évolutifs, je peux soutenir les analyses actuarielles, intégrer des fonctionnalités d’IA et améliorer les modèles de données afin de renforcer vos produits et vos processus internes.\\n\\n### Example output 2\\nJe voudrais rejoindre Advanced Schema en tant que Data Engineer car votre positionnement en Data 360 et vos plateformes cloud-privées orientées usage m’intéressent. J’ai plusieurs années d’expérience en modélisation physique, ainsi qu’une solide expérience en R&D et en travail sur des flux de données. Grâce à mes travaux sur des clusters de calcul, je maîtrise Bash, et avec mes 9 ans d’expérience en Python et ma pratique du SQL, je peux contribuer efficacement à vos projets.\\n\\n### Letter\\nBonjour,\\n\\nJe vous écris pour exprimer mon intérêt à rejoindre NOM D’ENTREPRISE en tant que TITRE DU POSTE, motivé par mon désir d\\'aider les gens à travers le développement et la démocratisation de produits de data. J’ai été particulièrement impressionné par le nombre de clients qui font confiance à votre entreprise ainsi que par la diversité de ses produits et solutions. De telles échelles significatives m’inspirent à contribuer au succès de NOM D’ENTREPRISE.\\n\\nAu cours de mon doctorat et de mes travaux postdoctoraux à l’INRIA, j’ai développé et optimisé à la fois un modèle numérique et le logiciel associé pour la simulation de la propagation des vagues, atteignant une amélioration des performances par 96 qui a permis son adoption par d’autres équipes de recherche. J’ai également contribué à des modèles numériques désormais utilisés par Météo-France pour la prévision côtière. Parallèlement à mes recherches, j’ai suivi le bootcamp Le Wagon en Data Science, où j’ai acquis une expérience pratique en apprentissage automatique, en deep learning, en statistiques et en déploiement cloud.\\n\\nChez Yanport, j’ai travaillé à l’enrichissement de bases de données immobilières à grande échelle en reliant les annonces internes à des jeux de données publics. J’ai conçu et testé des modèles de correspondance intégrant des informations spatiales, temporelles et structurelles, atteignant des taux de rapprochement allant jusqu’à 80 %. J’ai également défini des métriques de confiance pour évaluer la fiabilité des correspondances et mis en place des pipelines reliant des API, des données ouvertes et le warehouse de données interne. Cette expérience a approfondi mes compétences en intégration de données structurées, en traitement géospatial et en développement de pipelines à grande échelle.\\n\\nJe suis convaincu que la combinaison de ma rigueur académique et de mon expérience R&D appliquée aux pipelines de données me permettrait de contribuer efficacement à vos projets. Je serais ravi d’en savoir plus sur vos activités et d’échanger sur la manière dont je pourrais apporter de la valeur à votre équipe.\\n\\nCordialement,\\nSergey Tkachenko\\n\\n### Job description\\nAu cœur de la stratégie de modernisation de LCL, l\\'équipe IA est aujourd\\'hui reconnue au sein de la Direction des Systèmes d\\'Information. Après plusieurs années de succès dans le développement de cas d\\'usage à forte valeur ajoutée pour les métiers, nous entrons dans une phase d\\'accélération. \\n\\nVous intégrerez une équipe qui développe et déploie des solutions à la fois innovantes et à la pointe de la recherche scientifique. L’équipe possède des compétences en traitement d’image et en traitement du langage, qui ont permis de lancer des projets autour de ces deux domaines avec, pour premiers résultats, le renforcement de l’adhésion des acteurs opérationnels LCL sur la valeur des cas d’usages de l’IA.\\n\\nVous contribuerez aux projets de Data Science en cours et à venir, en vous appuyant sur votre expérience en développement de projets complexes de Machine et Deep Learning pour passer de la conception à l’industrialisation des solutions IA. Ainsi, vous serez amené à :\\n\\n- Participer à la conception et au développement de différentes briques d’Intelligence Artificielle répondant aux ambitions du Groupe Crédit Agricole ;\\n\\n- Créer des outils d\\'intelligence artificielle grâce à de puissants moyens informatiques chez l’équipe (GCP Vertex AI), en fonction de vos besoins, accompagné des équipes expertes IT, et sans être contraint par l\\'utilisation de solutions de marché ;\\n\\n- Contribuer activement à faire évoluer l\\'environnement de travail Data Science existant au sein de LCL.\\n\\n- Réaliser le « Packaging / Dockerisation » des modèles de sorte à créer des livrables informatiques pré-industrialisés ;\\n\\n- Préconiser et favoriser l’enrichissement et le maintien des environnements de travail Data Science existants au sein de LCL en étroite collaboration avec la Direction Informatique.\\n\\n \\n\\nEn tant qu’expert IA, en développement et en optimisation des codes complexes, vous participerez à l’évolution de la feuille de route de l’équipe, notamment pour qualifier les prérequis technologiques et les méthodologies adaptées. Vous prendrez en charge le design et le développement de solutions adéquates pour mener à bien les chantiers d’IA (prototypes, pilotage des algorithmes d’apprentissage, industrialisation).\\n\\nEn tant qu’interlocuteur privilégié des équipes IT, vous aurez un rôle majeur dans leur accompagnement, notamment en qualifiant les besoins informatiques, en matière d’IA, nécessaires à l’industrialisation des solutions développées.\\n\\nPour maintenir votre qualité de référent expert en développement IA au sein de LCL et du Groupe Crédit Agricole, vous mettrez en œuvre les moyens de veille technologique et scientifique adaptés. Ainsi, vous participerez à une communauté d’experts au sein du Groupe (référents Crédit Agricole SA sur le domaine de l’Innovation, DataLab Groupe, …) et accompagnerez l’acculturation de l’ensemble des métiers de LCL aux domaines de l’IA, au sein de notre équipe.\\n\\nTous nos postes sont ouverts aux personnes en situation de handicap.\\nView less\\nPreferred experience\\n\\nGrande Ecole d\\'ingénieur ou formation scientifique Universitaire.\\n\\nSpécialisation : Data Science, complété d’une expérience d’industrialisation et de mise en production dans le domaine de l’Intelligence Artificielle.\\n\\nCompétences requises :\\n\\n•  Data Science / IA : NLP/NLU, LLM/VLM, IAG, Computer Vision.\\n\\n•  Maîtrise de Python et des librairies Machine et Deep Learning (Pytorch, TensorFlow, Fastai, ...)\\n\\n• Forte culture « open source » et proposition des solutions innovantes.\\n\\n• Connaissance des architectures Cloud sur un ou plusieurs hyperscalers (GCP Vertex AI,  AWS)\\n\\n• Ingénierie des données et gestions des containers virtuels Docker.\\n\\n• Capacité à concevoir et développer des API RESTful.\\n\\n \\n\\nCompétences appréciées :\\n\\n· Compétences avec des frameworks de développement et déploiement d’agents LLM (Langgraph, …)\\n\\n· La connaissance des outils MLops sera également valorisée.\\n\\n \\n\\nQualités recherchées :\\n\\n \\n\\n• Démarche de développement Agile et curiosité sur l\\'état de l\\'art des algorithmes en Computer Vision et NLP.\\n\\n• Capacité d’écoute et de vulgarisation des approches technologiques.\\n\\n• La connaissance approfondie des métiers de la banque-assurance sera, de plus, valorisée.\\n\\nFrançais, Anglais\\n\\n### Input\\n- Company website: https://groupecreditagricole.jobs/fr/\\n- Job title: Data Scientist IA – Développeur Machine Learning\\n'"
      ]
     },
     "execution_count": 11,
     "metadata": {},
     "output_type": "execute_result"
    }
   ],
   "execution_count": 11
  },
  {
   "metadata": {
    "ExecuteTime": {
     "end_time": "2025-10-02T15:21:48.057177Z",
     "start_time": "2025-10-02T15:21:48.045763Z"
    }
   },
   "cell_type": "code",
   "source": [
    "df_jobs[\n",
    "    (~df_jobs['stage'].isin(['Rejection', 'Application Sent', 'Pooled', None])) & (df_jobs['referral'].isna())\n",
    "]"
   ],
   "id": "6f282769d20ab311",
   "outputs": [
    {
     "data": {
      "text/plain": [
       "                                  page_id                         job_title  \\\n",
       "50   23ed972b-0f6d-8036-9d8a-c48b67e4a298                    Data Scientist   \n",
       "61   237d972b-0f6d-807f-ad36-ec17d6a79990           Ingénieur IA générative   \n",
       "240  202d972b-0f6d-80df-99b8-d18dd0935d1e                   Software Python   \n",
       "253  1ffd972b-0f6d-80c0-9115-fc039e92151f  Consultant.e Data Engineer Paris   \n",
       "\n",
       "                 company language date_applied                 origin  \\\n",
       "50                    NW       FR   2025-07-28  Welcome To The Jungle   \n",
       "61                 Delos       FR   2025-07-21  Welcome To The Jungle   \n",
       "240           Bluecoders     None   2025-05-29  Welcome To The Jungle   \n",
       "253  The Information Lab     None   2025-05-26  Welcome To The Jungle   \n",
       "\n",
       "               stage                                    job_description  \\\n",
       "50      Pre-selected  https://www.welcometothejungle.com/en/companie...   \n",
       "61   First Interview  https://www.welcometothejungle.com/en/companie...   \n",
       "240  First Interview  https://www.welcometothejungle.com/en/companie...   \n",
       "253  First Interview  https://www.welcometothejungle.com/en/companie...   \n",
       "\n",
       "    cover_letter referral  position  \n",
       "50        Letter     None     217.0  \n",
       "61        Letter     None     206.0  \n",
       "240       Letter     None      27.0  \n",
       "253       Letter     None      14.0  "
      ],
      "text/html": [
       "<div>\n",
       "<style scoped>\n",
       "    .dataframe tbody tr th:only-of-type {\n",
       "        vertical-align: middle;\n",
       "    }\n",
       "\n",
       "    .dataframe tbody tr th {\n",
       "        vertical-align: top;\n",
       "    }\n",
       "\n",
       "    .dataframe thead th {\n",
       "        text-align: right;\n",
       "    }\n",
       "</style>\n",
       "<table border=\"1\" class=\"dataframe\">\n",
       "  <thead>\n",
       "    <tr style=\"text-align: right;\">\n",
       "      <th></th>\n",
       "      <th>page_id</th>\n",
       "      <th>job_title</th>\n",
       "      <th>company</th>\n",
       "      <th>language</th>\n",
       "      <th>date_applied</th>\n",
       "      <th>origin</th>\n",
       "      <th>stage</th>\n",
       "      <th>job_description</th>\n",
       "      <th>cover_letter</th>\n",
       "      <th>referral</th>\n",
       "      <th>position</th>\n",
       "    </tr>\n",
       "  </thead>\n",
       "  <tbody>\n",
       "    <tr>\n",
       "      <th>50</th>\n",
       "      <td>23ed972b-0f6d-8036-9d8a-c48b67e4a298</td>\n",
       "      <td>Data Scientist</td>\n",
       "      <td>NW</td>\n",
       "      <td>FR</td>\n",
       "      <td>2025-07-28</td>\n",
       "      <td>Welcome To The Jungle</td>\n",
       "      <td>Pre-selected</td>\n",
       "      <td>https://www.welcometothejungle.com/en/companie...</td>\n",
       "      <td>Letter</td>\n",
       "      <td>None</td>\n",
       "      <td>217.0</td>\n",
       "    </tr>\n",
       "    <tr>\n",
       "      <th>61</th>\n",
       "      <td>237d972b-0f6d-807f-ad36-ec17d6a79990</td>\n",
       "      <td>Ingénieur IA générative</td>\n",
       "      <td>Delos</td>\n",
       "      <td>FR</td>\n",
       "      <td>2025-07-21</td>\n",
       "      <td>Welcome To The Jungle</td>\n",
       "      <td>First Interview</td>\n",
       "      <td>https://www.welcometothejungle.com/en/companie...</td>\n",
       "      <td>Letter</td>\n",
       "      <td>None</td>\n",
       "      <td>206.0</td>\n",
       "    </tr>\n",
       "    <tr>\n",
       "      <th>240</th>\n",
       "      <td>202d972b-0f6d-80df-99b8-d18dd0935d1e</td>\n",
       "      <td>Software Python</td>\n",
       "      <td>Bluecoders</td>\n",
       "      <td>None</td>\n",
       "      <td>2025-05-29</td>\n",
       "      <td>Welcome To The Jungle</td>\n",
       "      <td>First Interview</td>\n",
       "      <td>https://www.welcometothejungle.com/en/companie...</td>\n",
       "      <td>Letter</td>\n",
       "      <td>None</td>\n",
       "      <td>27.0</td>\n",
       "    </tr>\n",
       "    <tr>\n",
       "      <th>253</th>\n",
       "      <td>1ffd972b-0f6d-80c0-9115-fc039e92151f</td>\n",
       "      <td>Consultant.e Data Engineer Paris</td>\n",
       "      <td>The Information Lab</td>\n",
       "      <td>None</td>\n",
       "      <td>2025-05-26</td>\n",
       "      <td>Welcome To The Jungle</td>\n",
       "      <td>First Interview</td>\n",
       "      <td>https://www.welcometothejungle.com/en/companie...</td>\n",
       "      <td>Letter</td>\n",
       "      <td>None</td>\n",
       "      <td>14.0</td>\n",
       "    </tr>\n",
       "  </tbody>\n",
       "</table>\n",
       "</div>"
      ]
     },
     "execution_count": 36,
     "metadata": {},
     "output_type": "execute_result"
    }
   ],
   "execution_count": 36
  }
 ],
 "metadata": {
  "kernelspec": {
   "display_name": "Python 3",
   "language": "python",
   "name": "python3"
  },
  "language_info": {
   "codemirror_mode": {
    "name": "ipython",
    "version": 2
   },
   "file_extension": ".py",
   "mimetype": "text/x-python",
   "name": "python",
   "nbconvert_exporter": "python",
   "pygments_lexer": "ipython2",
   "version": "2.7.6"
  }
 },
 "nbformat": 4,
 "nbformat_minor": 5
}
