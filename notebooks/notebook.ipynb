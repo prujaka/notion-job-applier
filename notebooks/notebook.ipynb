{
 "cells": [
  {
   "metadata": {
    "ExecuteTime": {
     "end_time": "2025-07-27T19:39:22.766017Z",
     "start_time": "2025-07-27T19:39:22.750536Z"
    }
   },
   "cell_type": "code",
   "source": [
    "from urllib.request import Request\n",
    "\n",
    "from jobapplier.api_requests import fetch_database_jsons, add_block, \\\n",
    "    add_cover_letters\n",
    "from jobapplier.constants import (URL_TEST_DATABASE, API_HEADERS,\n",
    "                                  URL_JOB_TRACKER_2_DATABASE, OPENAI_KEY)\n",
    "from jobapplier.cover_letter import build_letter\n",
    "from jobapplier.data_preprocessing import build_dataframe\n",
    "import os\n",
    "from requests import Response\n",
    "from openai import OpenAI\n",
    "import requests\n",
    "import json"
   ],
   "id": "7bbc4f73430c7fe0",
   "outputs": [],
   "execution_count": 11
  },
  {
   "metadata": {
    "ExecuteTime": {
     "end_time": "2025-07-27T19:24:14.491437Z",
     "start_time": "2025-07-27T19:24:14.419805Z"
    }
   },
   "cell_type": "code",
   "source": [
    "if os.getcwd().split('/')[-1] == 'notebooks':\n",
    "    os.chdir('..')\n",
    "\n",
    "%load_ext autoreload\n",
    "%autoreload 2"
   ],
   "id": "a090d3530b276158",
   "outputs": [],
   "execution_count": 2
  },
  {
   "metadata": {
    "ExecuteTime": {
     "end_time": "2025-07-27T19:46:08.980911Z",
     "start_time": "2025-07-27T19:46:08.113501Z"
    }
   },
   "cell_type": "code",
   "source": [
    "text = \"Zadnitsa\"\n",
    "block_id = '209d972b-0f6d-8144-9d50-fbd0d5ae094f'\n",
    "\n",
    "response = add_block(text=text, block_id=block_id, headers=API_HEADERS, block_type='paragraph')"
   ],
   "id": "f08e36616680e5f",
   "outputs": [],
   "execution_count": 19
  },
  {
   "metadata": {
    "ExecuteTime": {
     "end_time": "2025-07-27T19:48:51.394558Z",
     "start_time": "2025-07-27T19:48:44.290757Z"
    }
   },
   "cell_type": "code",
   "source": "responses = add_cover_letters(database_url=URL_TEST_DATABASE, headers=API_HEADERS)",
   "id": "fc910c6ff43b8a6d",
   "outputs": [],
   "execution_count": 20
  },
  {
   "metadata": {
    "ExecuteTime": {
     "end_time": "2025-07-27T19:48:52.005509Z",
     "start_time": "2025-07-27T19:48:51.990746Z"
    }
   },
   "cell_type": "code",
   "source": "list(map(lambda x: x.content, responses))",
   "id": "1956229dc14f32f0",
   "outputs": [
    {
     "data": {
      "text/plain": [
       "[b'{\"object\":\"list\",\"results\":[{\"object\":\"block\",\"id\":\"23dd972b-0f6d-819e-963d-d99b33cbc784\",\"parent\":{\"type\":\"page_id\",\"page_id\":\"239d972b-0f6d-809e-ba34-f371130970ea\"},\"created_time\":\"2025-07-27T19:48:00.000Z\",\"last_edited_time\":\"2025-07-27T19:48:00.000Z\",\"created_by\":{\"object\":\"user\",\"id\":\"e225c91d-c123-4baa-932d-730ef71d9f62\"},\"last_edited_by\":{\"object\":\"user\",\"id\":\"e225c91d-c123-4baa-932d-730ef71d9f62\"},\"has_children\":false,\"archived\":false,\"in_trash\":false,\"type\":\"paragraph\",\"paragraph\":{\"rich_text\":[{\"type\":\"text\",\"text\":{\"content\":\"Bonjour,\\\\n\\\\nJe vous \\xc3\\xa9cris pour exprimer mon int\\xc3\\xa9r\\xc3\\xaat \\xc3\\xa0 rejoindre Company 4 en tant que Test Title 4, motiv\\xc3\\xa9 par mon d\\xc3\\xa9sir d\\'aider les gens \\xc3\\xa0 travers le d\\xc3\\xa9veloppement et la d\\xc3\\xa9mocratisation de produits de data. J\\xe2\\x80\\x99ai \\xc3\\xa9t\\xc3\\xa9 particuli\\xc3\\xa8rement impressionn\\xc3\\xa9 par le nombre de clients qui font confiance \\xc3\\xa0 votre entreprise ainsi que par la diversit\\xc3\\xa9 de ses produits et solutions. De telles \\xc3\\xa9chelles significatives m\\xe2\\x80\\x99inspirent \\xc3\\xa0 contribuer au succ\\xc3\\xa8s de Company 4.\\\\n\\\\nAu cours de ma th\\xc3\\xa8se, j\\'ai d\\xc3\\xa9velopp\\xc3\\xa9 un logiciel pour simuler la propagation des ondes d\\'eau, et pendant mon postdoc \\xc3\\xa0 l\\'INRIA, je l\\'ai optimis\\xc3\\xa9 pour qu\\'il soit 96 fois plus rapide que le mod\\xc3\\xa8le original utilis\\xc3\\xa9 par mon groupe. Cette am\\xc3\\xa9lioration a conduit \\xc3\\xa0 son adoption par des coll\\xc3\\xa8gues de l\\'Universit\\xc3\\xa9 de Loughborough. De plus, \\xc3\\xa0 l\\'INSA de Toulouse, j\\'ai r\\xc3\\xa9alis\\xc3\\xa9 des analyses de stabilit\\xc3\\xa9 de mod\\xc3\\xa8les num\\xc3\\xa9riques d\\xc3\\xa9sormais utilis\\xc3\\xa9s par M\\xc3\\xa9t\\xc3\\xa9o-France pour les applications c\\xc3\\xb4ti\\xc3\\xa8res. Au cours de ma derni\\xc3\\xa8re ann\\xc3\\xa9e de postdoc \\xc3\\xa0 l\\'INRIA, j\\'ai poursuivi des \\xc3\\xa9tudes compl\\xc3\\xa9mentaires dans le lot Data Science du bootcamp Le Wagon qui m\\'ont dot\\xc3\\xa9 des comp\\xc3\\xa9tences essentielles pour d\\xc3\\xa9velopper et mettre en \\xc5\\x93uvre des mod\\xc3\\xa8les d\\'apprentissage automatique et des architectures de r\\xc3\\xa9seaux de neurones, couvrant le d\\xc3\\xa9ploiement et la maintenance sur le cloud et MLOps.\\\\n\\\\nJ\\xe2\\x80\\x99ai ensuite travaill\\xc3\\xa9 chez Yanport en tant que Data Scientist R&D, o\\xc3\\xb9 j\\xe2\\x80\\x99ai con\\xc3\\xa7u des mod\\xc3\\xa8les pour enrichir une base de donn\\xc3\\xa9es immobili\\xc3\\xa8res \\xc3\\xa0 grande \\xc3\\xa9chelle en croisant des annonces internes avec des bases de donn\\xc3\\xa9es publiques. J\\xe2\\x80\\x99ai travaill\\xc3\\xa9 sur l\\xe2\\x80\\x99int\\xc3\\xa9gration de donn\\xc3\\xa9es h\\xc3\\xa9t\\xc3\\xa9rog\\xc3\\xa8nes, en exploitant des informations spatiales, temporelles et structurelles, atteignant un taux de correspondance allant jusqu\\xe2\\x80\\x99\\xc3\\xa0 80 %. Parmi mes contributions, la d\\xc3\\xa9finition de m\\xc3\\xa9triques de confiance pour \\xc3\\xa9valuer la fiabilit\\xc3\\xa9 des matches, ainsi que la cr\\xc3\\xa9ation de pipelines de donn\\xc3\\xa9es int\\xc3\\xa9grant des sources ouvertes, diverses API et un data warehouse interne. Cette exp\\xc3\\xa9rience m\\xe2\\x80\\x99a permis de renforcer mes comp\\xc3\\xa9tences en traitement de donn\\xc3\\xa9es structur\\xc3\\xa9es, en g\\xc3\\xa9ospatial et en d\\xc3\\xa9veloppement de pipelines dans un contexte m\\xc3\\xa9tier.\\\\n\\\\nMerci d\\'avoir examin\\xc3\\xa9 ma candidature. Je crois que mon expertise en calcul scientifique ainsi que mes solides comp\\xc3\\xa9tences en data science peuvent contribuer de mani\\xc3\\xa8re significative \\xc3\\xa0 vos projets, et j\\xe2\\x80\\x99appr\\xc3\\xa9cie l\\'opportunit\\xc3\\xa9 de discuter de mes qualifications et d\\'en apprendre davantage sur le travail de votre \\xc3\\xa9quipe.\\\\n\\\\nSinc\\xc3\\xa8rement,\\\\nSergey Tkachenko\\\\n\",\"link\":null},\"annotations\":{\"bold\":false,\"italic\":false,\"strikethrough\":false,\"underline\":false,\"code\":false,\"color\":\"default\"},\"plain_text\":\"Bonjour,\\\\n\\\\nJe vous \\xc3\\xa9cris pour exprimer mon int\\xc3\\xa9r\\xc3\\xaat \\xc3\\xa0 rejoindre Company 4 en tant que Test Title 4, motiv\\xc3\\xa9 par mon d\\xc3\\xa9sir d\\'aider les gens \\xc3\\xa0 travers le d\\xc3\\xa9veloppement et la d\\xc3\\xa9mocratisation de produits de data. J\\xe2\\x80\\x99ai \\xc3\\xa9t\\xc3\\xa9 particuli\\xc3\\xa8rement impressionn\\xc3\\xa9 par le nombre de clients qui font confiance \\xc3\\xa0 votre entreprise ainsi que par la diversit\\xc3\\xa9 de ses produits et solutions. De telles \\xc3\\xa9chelles significatives m\\xe2\\x80\\x99inspirent \\xc3\\xa0 contribuer au succ\\xc3\\xa8s de Company 4.\\\\n\\\\nAu cours de ma th\\xc3\\xa8se, j\\'ai d\\xc3\\xa9velopp\\xc3\\xa9 un logiciel pour simuler la propagation des ondes d\\'eau, et pendant mon postdoc \\xc3\\xa0 l\\'INRIA, je l\\'ai optimis\\xc3\\xa9 pour qu\\'il soit 96 fois plus rapide que le mod\\xc3\\xa8le original utilis\\xc3\\xa9 par mon groupe. Cette am\\xc3\\xa9lioration a conduit \\xc3\\xa0 son adoption par des coll\\xc3\\xa8gues de l\\'Universit\\xc3\\xa9 de Loughborough. De plus, \\xc3\\xa0 l\\'INSA de Toulouse, j\\'ai r\\xc3\\xa9alis\\xc3\\xa9 des analyses de stabilit\\xc3\\xa9 de mod\\xc3\\xa8les num\\xc3\\xa9riques d\\xc3\\xa9sormais utilis\\xc3\\xa9s par M\\xc3\\xa9t\\xc3\\xa9o-France pour les applications c\\xc3\\xb4ti\\xc3\\xa8res. Au cours de ma derni\\xc3\\xa8re ann\\xc3\\xa9e de postdoc \\xc3\\xa0 l\\'INRIA, j\\'ai poursuivi des \\xc3\\xa9tudes compl\\xc3\\xa9mentaires dans le lot Data Science du bootcamp Le Wagon qui m\\'ont dot\\xc3\\xa9 des comp\\xc3\\xa9tences essentielles pour d\\xc3\\xa9velopper et mettre en \\xc5\\x93uvre des mod\\xc3\\xa8les d\\'apprentissage automatique et des architectures de r\\xc3\\xa9seaux de neurones, couvrant le d\\xc3\\xa9ploiement et la maintenance sur le cloud et MLOps.\\\\n\\\\nJ\\xe2\\x80\\x99ai ensuite travaill\\xc3\\xa9 chez Yanport en tant que Data Scientist R&D, o\\xc3\\xb9 j\\xe2\\x80\\x99ai con\\xc3\\xa7u des mod\\xc3\\xa8les pour enrichir une base de donn\\xc3\\xa9es immobili\\xc3\\xa8res \\xc3\\xa0 grande \\xc3\\xa9chelle en croisant des annonces internes avec des bases de donn\\xc3\\xa9es publiques. J\\xe2\\x80\\x99ai travaill\\xc3\\xa9 sur l\\xe2\\x80\\x99int\\xc3\\xa9gration de donn\\xc3\\xa9es h\\xc3\\xa9t\\xc3\\xa9rog\\xc3\\xa8nes, en exploitant des informations spatiales, temporelles et structurelles, atteignant un taux de correspondance allant jusqu\\xe2\\x80\\x99\\xc3\\xa0 80 %. Parmi mes contributions, la d\\xc3\\xa9finition de m\\xc3\\xa9triques de confiance pour \\xc3\\xa9valuer la fiabilit\\xc3\\xa9 des matches, ainsi que la cr\\xc3\\xa9ation de pipelines de donn\\xc3\\xa9es int\\xc3\\xa9grant des sources ouvertes, diverses API et un data warehouse interne. Cette exp\\xc3\\xa9rience m\\xe2\\x80\\x99a permis de renforcer mes comp\\xc3\\xa9tences en traitement de donn\\xc3\\xa9es structur\\xc3\\xa9es, en g\\xc3\\xa9ospatial et en d\\xc3\\xa9veloppement de pipelines dans un contexte m\\xc3\\xa9tier.\\\\n\\\\nMerci d\\'avoir examin\\xc3\\xa9 ma candidature. Je crois que mon expertise en calcul scientifique ainsi que mes solides comp\\xc3\\xa9tences en data science peuvent contribuer de mani\\xc3\\xa8re significative \\xc3\\xa0 vos projets, et j\\xe2\\x80\\x99appr\\xc3\\xa9cie l\\'opportunit\\xc3\\xa9 de discuter de mes qualifications et d\\'en apprendre davantage sur le travail de votre \\xc3\\xa9quipe.\\\\n\\\\nSinc\\xc3\\xa8rement,\\\\nSergey Tkachenko\\\\n\",\"href\":null}],\"color\":\"default\"}}],\"next_cursor\":null,\"has_more\":false,\"type\":\"block\",\"block\":{},\"request_id\":\"946102b2-eb44-405a-9f8c-55a88ce55e33\"}',\n",
       " b'{\"object\":\"list\",\"results\":[{\"object\":\"block\",\"id\":\"23dd972b-0f6d-8155-a402-cecc14a64dc3\",\"parent\":{\"type\":\"page_id\",\"page_id\":\"209d972b-0f6d-8144-9d50-fbd0d5ae094f\"},\"created_time\":\"2025-07-27T19:48:00.000Z\",\"last_edited_time\":\"2025-07-27T19:48:00.000Z\",\"created_by\":{\"object\":\"user\",\"id\":\"e225c91d-c123-4baa-932d-730ef71d9f62\"},\"last_edited_by\":{\"object\":\"user\",\"id\":\"e225c91d-c123-4baa-932d-730ef71d9f62\"},\"has_children\":false,\"archived\":false,\"in_trash\":false,\"type\":\"paragraph\",\"paragraph\":{\"rich_text\":[{\"type\":\"text\",\"text\":{\"content\":\"Dear Hiring Manager,\\\\n\\\\nI am writing to express my interest in joining Company 1 as a Test Title 1, driven by my passion for the democratization and development of data products. I am particularly impressed by the number of clients who trust your company and the diversity of its products and solutions. These meaningful scales inspire me to contribute to the ongoing success of Company 1.\\\\n\\\\nDuring my PhD, I developed software to simulate water wave propagation. While working as a postdoc at INRIA, I optimized this software to be 96 times faster than the original model used by my group. This optimization led to its adoption by colleagues at Loughborough University. Additionally, at INSA de Toulouse, I performed stability analysis of numerical models now used by Meteofrance for coastal applications. In my final year as a postdoc at INRIA Bordeaux, I pursued additional studies in the Data Science batch at Le Wagon bootcamp, which equipped me with the essential skills to develop and implement machine learning models and neural network architectures, covering deployment and maintenance on the cloud.\\\\n\\\\nFollowing the bootcamp, I joined Yanport as an R&D Data Scientist, where I worked on enriching large-scale real estate databases by matching internal property listings with public datasets. I designed and tested models to link records across diverse data sources, integrating spatial, temporal, and structural property information. While working with incomplete and heterogeneous data, I achieved match rates of up to 80% and contributed to the development of heuristics to quantify match confidence. Among my contributions were the definition of trust metrics to assess the reliability of matches, as well as the creation of data pipelines integrating open sources, various APIs, and an internal data warehouse. This experience deepened my skills in structured data integration, geospatial processing, and practical pipeline development within a business context.\\\\n\\\\nThank you for considering my application. I believe that the combination of my academic expertise and my experience as a Data Scientist working with data pipelines in a private-sector R&D environment enables me to bring both rigour and practicality to your projects. I would appreciate the opportunity to further discuss how I can contribute to your team and learn more about your ongoing work.\\\\n\\\\nSincerely,\\\\nSergey Tkachenko\\\\n\",\"link\":null},\"annotations\":{\"bold\":false,\"italic\":false,\"strikethrough\":false,\"underline\":false,\"code\":false,\"color\":\"default\"},\"plain_text\":\"Dear Hiring Manager,\\\\n\\\\nI am writing to express my interest in joining Company 1 as a Test Title 1, driven by my passion for the democratization and development of data products. I am particularly impressed by the number of clients who trust your company and the diversity of its products and solutions. These meaningful scales inspire me to contribute to the ongoing success of Company 1.\\\\n\\\\nDuring my PhD, I developed software to simulate water wave propagation. While working as a postdoc at INRIA, I optimized this software to be 96 times faster than the original model used by my group. This optimization led to its adoption by colleagues at Loughborough University. Additionally, at INSA de Toulouse, I performed stability analysis of numerical models now used by Meteofrance for coastal applications. In my final year as a postdoc at INRIA Bordeaux, I pursued additional studies in the Data Science batch at Le Wagon bootcamp, which equipped me with the essential skills to develop and implement machine learning models and neural network architectures, covering deployment and maintenance on the cloud.\\\\n\\\\nFollowing the bootcamp, I joined Yanport as an R&D Data Scientist, where I worked on enriching large-scale real estate databases by matching internal property listings with public datasets. I designed and tested models to link records across diverse data sources, integrating spatial, temporal, and structural property information. While working with incomplete and heterogeneous data, I achieved match rates of up to 80% and contributed to the development of heuristics to quantify match confidence. Among my contributions were the definition of trust metrics to assess the reliability of matches, as well as the creation of data pipelines integrating open sources, various APIs, and an internal data warehouse. This experience deepened my skills in structured data integration, geospatial processing, and practical pipeline development within a business context.\\\\n\\\\nThank you for considering my application. I believe that the combination of my academic expertise and my experience as a Data Scientist working with data pipelines in a private-sector R&D environment enables me to bring both rigour and practicality to your projects. I would appreciate the opportunity to further discuss how I can contribute to your team and learn more about your ongoing work.\\\\n\\\\nSincerely,\\\\nSergey Tkachenko\\\\n\",\"href\":null}],\"color\":\"default\"}}],\"next_cursor\":null,\"has_more\":false,\"type\":\"block\",\"block\":{},\"request_id\":\"d4275ddf-0725-4cbe-9b04-6f0b7444f24c\"}']"
      ]
     },
     "execution_count": 21,
     "metadata": {},
     "output_type": "execute_result"
    }
   ],
   "execution_count": 21
  }
 ],
 "metadata": {
  "kernelspec": {
   "display_name": "Python 3",
   "language": "python",
   "name": "python3"
  },
  "language_info": {
   "codemirror_mode": {
    "name": "ipython",
    "version": 2
   },
   "file_extension": ".py",
   "mimetype": "text/x-python",
   "name": "python",
   "nbconvert_exporter": "python",
   "pygments_lexer": "ipython2",
   "version": "2.7.6"
  }
 },
 "nbformat": 4,
 "nbformat_minor": 5
}
